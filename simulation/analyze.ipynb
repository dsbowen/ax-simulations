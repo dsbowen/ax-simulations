{
 "cells": [
  {
   "cell_type": "code",
   "execution_count": 2,
   "metadata": {},
   "outputs": [
    {
     "data": {
      "text/html": [
       "<div>\n",
       "<style scoped>\n",
       "    .dataframe tbody tr th:only-of-type {\n",
       "        vertical-align: middle;\n",
       "    }\n",
       "\n",
       "    .dataframe tbody tr th {\n",
       "        vertical-align: top;\n",
       "    }\n",
       "\n",
       "    .dataframe thead th {\n",
       "        text-align: right;\n",
       "    }\n",
       "</style>\n",
       "<table border=\"1\" class=\"dataframe\">\n",
       "  <thead>\n",
       "    <tr style=\"text-align: right;\">\n",
       "      <th></th>\n",
       "      <th>names</th>\n",
       "      <th>params</th>\n",
       "      <th>cov</th>\n",
       "      <th>n_users</th>\n",
       "      <th>sim_no</th>\n",
       "      <th>needle</th>\n",
       "      <th>n_treatments</th>\n",
       "    </tr>\n",
       "  </thead>\n",
       "  <tbody>\n",
       "    <tr>\n",
       "      <th>0</th>\n",
       "      <td>['1c PieceRate' 'hay_000' 'hay_001' 'hay_002']</td>\n",
       "      <td>[1145.         2613.25        668.5         72...</td>\n",
       "      <td>[[ 165574.16666667   83440.16666667   83440.16...</td>\n",
       "      <td>20</td>\n",
       "      <td>0</td>\n",
       "      <td>1c PieceRate</td>\n",
       "      <td>4</td>\n",
       "    </tr>\n",
       "    <tr>\n",
       "      <th>1</th>\n",
       "      <td>['1c PieceRate' 'hay_000' 'hay_001' 'hay_002']</td>\n",
       "      <td>[1187.75       2113.71428571  851.5         90...</td>\n",
       "      <td>[[ 87476.79513889  62728.08888889  62728.08888...</td>\n",
       "      <td>30</td>\n",
       "      <td>0</td>\n",
       "      <td>1c PieceRate</td>\n",
       "      <td>4</td>\n",
       "    </tr>\n",
       "    <tr>\n",
       "      <th>2</th>\n",
       "      <td>['1c PieceRate' 'hay_000' 'hay_001' 'hay_002']</td>\n",
       "      <td>[ 825.75384615 1556.23717949  951.65384615 100...</td>\n",
       "      <td>[[247863.78795812  37503.32167241  37503.32167...</td>\n",
       "      <td>40</td>\n",
       "      <td>0</td>\n",
       "      <td>1c PieceRate</td>\n",
       "      <td>4</td>\n",
       "    </tr>\n",
       "    <tr>\n",
       "      <th>3</th>\n",
       "      <td>['1c PieceRate' 'hay_000' 'hay_001' 'hay_002']</td>\n",
       "      <td>[ 715.41176471 1199.54509804  734.21176471  58...</td>\n",
       "      <td>[[199534.9825105   45178.50102902  45178.50102...</td>\n",
       "      <td>50</td>\n",
       "      <td>0</td>\n",
       "      <td>1c PieceRate</td>\n",
       "      <td>4</td>\n",
       "    </tr>\n",
       "    <tr>\n",
       "      <th>4</th>\n",
       "      <td>['1c PieceRate' 'hay_000' 'hay_001' 'hay_002']</td>\n",
       "      <td>[ 384.35        936.96111111 1297.70714286  44...</td>\n",
       "      <td>[[156006.65468182  40216.09786364  40216.09786...</td>\n",
       "      <td>60</td>\n",
       "      <td>0</td>\n",
       "      <td>1c PieceRate</td>\n",
       "      <td>4</td>\n",
       "    </tr>\n",
       "  </tbody>\n",
       "</table>\n",
       "</div>"
      ],
      "text/plain": [
       "                                            names  \\\n",
       "0  ['1c PieceRate' 'hay_000' 'hay_001' 'hay_002']   \n",
       "1  ['1c PieceRate' 'hay_000' 'hay_001' 'hay_002']   \n",
       "2  ['1c PieceRate' 'hay_000' 'hay_001' 'hay_002']   \n",
       "3  ['1c PieceRate' 'hay_000' 'hay_001' 'hay_002']   \n",
       "4  ['1c PieceRate' 'hay_000' 'hay_001' 'hay_002']   \n",
       "\n",
       "                                              params  \\\n",
       "0  [1145.         2613.25        668.5         72...   \n",
       "1  [1187.75       2113.71428571  851.5         90...   \n",
       "2  [ 825.75384615 1556.23717949  951.65384615 100...   \n",
       "3  [ 715.41176471 1199.54509804  734.21176471  58...   \n",
       "4  [ 384.35        936.96111111 1297.70714286  44...   \n",
       "\n",
       "                                                 cov  n_users  sim_no  \\\n",
       "0  [[ 165574.16666667   83440.16666667   83440.16...       20       0   \n",
       "1  [[ 87476.79513889  62728.08888889  62728.08888...       30       0   \n",
       "2  [[247863.78795812  37503.32167241  37503.32167...       40       0   \n",
       "3  [[199534.9825105   45178.50102902  45178.50102...       50       0   \n",
       "4  [[156006.65468182  40216.09786364  40216.09786...       60       0   \n",
       "\n",
       "         needle  n_treatments  \n",
       "0  1c PieceRate             4  \n",
       "1  1c PieceRate             4  \n",
       "2  1c PieceRate             4  \n",
       "3  1c PieceRate             4  \n",
       "4  1c PieceRate             4  "
      ]
     },
     "execution_count": 2,
     "metadata": {},
     "output_type": "execute_result"
    }
   ],
   "source": [
    "import pandas as pd\n",
    "\n",
    "DATA_FILE = \"data/data.csv\"\n",
    "\n",
    "df = pd.read_csv(DATA_FILE)\n",
    "df.head()"
   ]
  },
  {
   "cell_type": "code",
   "execution_count": 4,
   "metadata": {},
   "outputs": [
    {
     "data": {
      "text/plain": [
       "0     20\n",
       "1     30\n",
       "2     40\n",
       "3     50\n",
       "4     60\n",
       "5     70\n",
       "6     80\n",
       "7     90\n",
       "8     30\n",
       "9     40\n",
       "10    50\n",
       "11    60\n",
       "12    70\n",
       "13    80\n",
       "14    90\n",
       "15    20\n",
       "16    30\n",
       "17    40\n",
       "18    50\n",
       "19    60\n",
       "20    70\n",
       "21    80\n",
       "22    90\n",
       "Name: n_users, dtype: int64"
      ]
     },
     "execution_count": 4,
     "metadata": {},
     "output_type": "execute_result"
    }
   ],
   "source": [
    "df.n_users"
   ]
  },
  {
   "cell_type": "code",
   "execution_count": null,
   "metadata": {},
   "outputs": [],
   "source": []
  }
 ],
 "metadata": {
  "interpreter": {
   "hash": "3c47852066464c1345256216906508ddaadb2747e42bb53fe3f5a60d9d068d65"
  },
  "kernelspec": {
   "display_name": "Python 3.8.5 64-bit ('base': conda)",
   "language": "python",
   "name": "python3"
  },
  "language_info": {
   "codemirror_mode": {
    "name": "ipython",
    "version": 3
   },
   "file_extension": ".py",
   "mimetype": "text/x-python",
   "name": "python",
   "nbconvert_exporter": "python",
   "pygments_lexer": "ipython3",
   "version": "3.8.5"
  },
  "orig_nbformat": 4
 },
 "nbformat": 4,
 "nbformat_minor": 2
}
